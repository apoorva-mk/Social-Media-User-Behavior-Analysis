{
 "cells": [
  {
   "cell_type": "code",
   "execution_count": 28,
   "metadata": {},
   "outputs": [
    {
     "name": "stdout",
     "output_type": "stream",
     "text": [
      "Dependencies imported\n"
     ]
    }
   ],
   "source": [
    "#Importing required dependencies\n",
    "\n",
    "import pymongo\n",
    "from scipy.stats import pearsonr\n",
    "from scipy.stats import spearmanr\n",
    "import matplotlib.pyplot as plt\n",
    "\n",
    "print(\"Dependencies imported\")"
   ]
  },
  {
   "cell_type": "code",
   "execution_count": 2,
   "metadata": {},
   "outputs": [],
   "source": [
    "#TO DO: Add to config file later\n",
    "\n",
    "users_database_name = \"users_test\"\n",
    "user_followers_database = \"user_followers_test\"\n",
    "tweets_database = \"user_tweets_test\""
   ]
  },
  {
   "cell_type": "code",
   "execution_count": 6,
   "metadata": {},
   "outputs": [],
   "source": [
    "#Storing in MongoDB database\n",
    "\n",
    "client = pymongo.MongoClient(\"mongodb://localhost:27017/\")\n",
    "mydb = client[\"mydatabase_test\"]\n",
    "user_col = mydb[users_database_name]\n",
    "user_follower_col = mydb[user_followers_database]\n",
    "tweets_col = mydb[tweets_database]"
   ]
  },
  {
   "cell_type": "code",
   "execution_count": 19,
   "metadata": {},
   "outputs": [
    {
     "name": "stdout",
     "output_type": "stream",
     "text": [
      "['user_tweets_test', 'users_test']\n",
      "Users collection exists\n"
     ]
    }
   ],
   "source": [
    "#Checking for collections in DB\n",
    "\n",
    "collist = mydb.list_collection_names()\n",
    "print(collist)\n",
    "if users_database_name in collist:\n",
    "    print(\"Users collection exists\")\n",
    "\n",
    "else:\n",
    "    print(\"ERR: Users collection doesn't exist yet\")"
   ]
  },
  {
   "cell_type": "code",
   "execution_count": 56,
   "metadata": {},
   "outputs": [],
   "source": [
    "#Load scraped data\n",
    "\n",
    "for x in tweets_col.find():\n",
    "    data1.append(x[\"retweet_count\"])\n",
    "    data2.append(x[\"follower_count\"])"
   ]
  },
  {
   "cell_type": "code",
   "execution_count": 57,
   "metadata": {},
   "outputs": [
    {
     "name": "stdout",
     "output_type": "stream",
     "text": [
      "Pearsons correlation: -0.003\n"
     ]
    }
   ],
   "source": [
    "#Pearson's correlation\n",
    "\n",
    "pcorr, _ = pearsonr(data1, data2)\n",
    "print('Pearsons correlation: %.3f' % pcorr)"
   ]
  },
  {
   "cell_type": "code",
   "execution_count": 58,
   "metadata": {},
   "outputs": [
    {
     "name": "stdout",
     "output_type": "stream",
     "text": [
      "Spearmans correlation: 0.100\n"
     ]
    }
   ],
   "source": [
    "#Spearman's correlation\n",
    "\n",
    "scorr, _ = spearmanr(data1, data2)\n",
    "print('Spearmans correlation: %.3f' % scorr)"
   ]
  },
  {
   "cell_type": "code",
   "execution_count": 59,
   "metadata": {},
   "outputs": [
    {
     "name": "stdout",
     "output_type": "stream",
     "text": [
      "Plot of follower count vs retweet count\n"
     ]
    },
    {
     "data": {
      "image/png": "[encoded data removed]",
      "text/plain": [
       "<Figure size 432x288 with 1 Axes>"
      ]
     },
     "metadata": {
      "needs_background": "light"
     },
     "output_type": "display_data"
    }
   ],
   "source": [
    "print(\"Plot of follower count vs retweet count\")\n",
    "plt.plot(data2, data1, 'ro')\n",
    "plt.axis([0, 400, 0, 5000])\n",
    "plt.show()"
   ]
  },
  {
   "cell_type": "code",
   "execution_count": null,
   "metadata": {},
   "outputs": [],
   "source": []
  }
 ],
 "metadata": {
  "kernelspec": {
   "display_name": "Python 3",
   "language": "python",
   "name": "python3"
  },
  "language_info": {
   "codemirror_mode": {
    "name": "ipython",
    "version": 3
   },
   "file_extension": ".py",
   "mimetype": "text/x-python",
   "name": "python",
   "nbconvert_exporter": "python",
   "pygments_lexer": "ipython3",
   "version": "3.7.3"
  }
 },
 "nbformat": 4,
 "nbformat_minor": 2
}
