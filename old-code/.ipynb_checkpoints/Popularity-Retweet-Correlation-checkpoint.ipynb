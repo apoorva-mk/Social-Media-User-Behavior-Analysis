{
 "cells": [
  {
   "cell_type": "code",
   "execution_count": 9,
   "metadata": {},
   "outputs": [
    {
     "name": "stdout",
     "output_type": "stream",
     "text": [
      "Dependencies imported\n"
     ]
    }
   ],
   "source": [
    "#Importing required dependencies\n",
    "\n",
    "import pymongo\n",
    "from scipy.stats import pearsonr\n",
    "from scipy.stats import spearmanr\n",
    "\n",
    "print(\"Dependencies imported\")"
   ]
  },
  {
   "cell_type": "code",
   "execution_count": 2,
   "metadata": {},
   "outputs": [],
   "source": [
    "#TO DO: Add to config file later\n",
    "\n",
    "users_database_name = \"users_test\"\n",
    "user_followers_database = \"user_followers_test\"\n",
    "tweets_database = \"user_tweets_test\""
   ]
  },
  {
   "cell_type": "code",
   "execution_count": 6,
   "metadata": {},
   "outputs": [],
   "source": [
    "#Storing in MongoDB database\n",
    "\n",
    "client = pymongo.MongoClient(\"mongodb://localhost:27017/\")\n",
    "mydb = client[\"mydatabase_test\"]\n",
    "user_col = mydb[users_database_name]\n",
    "user_follower_col = mydb[user_followers_database]\n",
    "tweets_col = mydb[tweets_database]"
   ]
  },
  {
   "cell_type": "code",
   "execution_count": 7,
   "metadata": {},
   "outputs": [
    {
     "name": "stdout",
     "output_type": "stream",
     "text": [
      "['users_test']\n",
      "Users collection exists\n"
     ]
    }
   ],
   "source": [
    "#Checking for collections in DB\n",
    "\n",
    "collist = mydb.list_collection_names()\n",
    "print(collist)\n",
    "if users_database_name in collist:\n",
    "    print(\"Users collection exists\")\n",
    "\n",
    "else:\n",
    "    print(\"ERR: Users collection doesn't exist yet\")"
   ]
  },
  {
   "cell_type": "code",
   "execution_count": 10,
   "metadata": {},
   "outputs": [],
   "source": [
    "data1 = [1,2,3]\n",
    "data2 = [2,3,4]"
   ]
  },
  {
   "cell_type": "code",
   "execution_count": 11,
   "metadata": {},
   "outputs": [
    {
     "name": "stdout",
     "output_type": "stream",
     "text": [
      "Pearsons correlation: 1.000\n"
     ]
    }
   ],
   "source": [
    "corr, _ = pearsonr(data1, data2)\n",
    "print('Pearsons correlation: %.3f' % corr)"
   ]
  },
  {
   "cell_type": "code",
   "execution_count": null,
   "metadata": {},
   "outputs": [],
   "source": []
  }
 ],
 "metadata": {
  "kernelspec": {
   "display_name": "Python 3",
   "language": "python",
   "name": "python3"
  },
  "language_info": {
   "codemirror_mode": {
    "name": "ipython",
    "version": 3
   },
   "file_extension": ".py",
   "mimetype": "text/x-python",
   "name": "python",
   "nbconvert_exporter": "python",
   "pygments_lexer": "ipython3",
   "version": "3.7.3"
  }
 },
 "nbformat": 4,
 "nbformat_minor": 2
}
