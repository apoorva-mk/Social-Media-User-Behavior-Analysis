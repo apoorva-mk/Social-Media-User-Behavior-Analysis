{
 "cells": [
  {
   "cell_type": "code",
   "execution_count": 53,
   "metadata": {},
   "outputs": [
    {
     "name": "stdout",
     "output_type": "stream",
     "text": [
      "Dependencies imported\n"
     ]
    }
   ],
   "source": [
    "#Importing required dependencies\n",
    "\n",
    "import tweepy\n",
    "import pymongo\n",
    "import json\n",
    "import time\n",
    "\n",
    "print(\"Dependencies imported\")"
   ]
  },
  {
   "cell_type": "code",
   "execution_count": 54,
   "metadata": {},
   "outputs": [],
   "source": [
    "#TO DO: Add to config file later\n",
    "\n",
    "consumer_key = \"mQXkO4dzpD3OPD1nOIT3fuD0j\"\n",
    "consumer_secret = \"obt5r2qT1o878i5Eja7GYropJfCeUX76IXcjXRuHoJjIZnaard\"\n",
    "users_database_name = \"users_test\"\n",
    "user_followers_database = \"user_followers_test\"\n",
    "tweets_database = \"user_tweets_test\"\n",
    "\n",
    "seed_usernames = [\"P9Ashwini\", \n",
    "                  \"drashwathcn\", \n",
    "                  \"Tej_AnanthKumar\", \n",
    "                  \"vijeta_at\", \n",
    "                  \"nimmasuresh\", \n",
    "                  \"ShashikalaJolle\"]"
   ]
  },
  {
   "cell_type": "code",
   "execution_count": 55,
   "metadata": {},
   "outputs": [],
   "source": [
    "#Storing in MongoDB database\n",
    "\n",
    "client = pymongo.MongoClient(\"mongodb://localhost:27017/\")\n",
    "mydb = client[\"mydatabase_test\"]\n",
    "user_col = mydb[users_database_name]\n",
    "user_follower_col = mydb[user_followers_database]\n",
    "tweets_col = mydb[tweets_database]"
   ]
  },
  {
   "cell_type": "code",
   "execution_count": 56,
   "metadata": {},
   "outputs": [
    {
     "name": "stdout",
     "output_type": "stream",
     "text": [
      "['user_tweets_test', 'users_test']\n",
      "Users collection exists\n"
     ]
    }
   ],
   "source": [
    "#Checking for collections in DB\n",
    "\n",
    "collist = mydb.list_collection_names()\n",
    "print(collist)\n",
    "if users_database_name in collist:\n",
    "    print(\"Users collection exists\")\n",
    "\n",
    "else:\n",
    "    print(\"ERR: Users collection doesn't exist yet\")"
   ]
  },
  {
   "cell_type": "code",
   "execution_count": 57,
   "metadata": {},
   "outputs": [],
   "source": [
    "#OAuth2 Authentication\n",
    "\n",
    "def get_authenticated_twitter_api():\n",
    "    auth = tweepy.AppAuthHandler(consumer_key, consumer_secret)\n",
    "    api = tweepy.API(auth, wait_on_rate_limit=True, wait_on_rate_limit_notify=True)\n",
    "    return api"
   ]
  },
  {
   "cell_type": "code",
   "execution_count": 58,
   "metadata": {},
   "outputs": [],
   "source": [
    "#Save the users info and recent tweets in local DB\n",
    "\n",
    "def save_user(user_dict):\n",
    "    try:\n",
    "        user_info = {\"_id\":user_dict[\"id_str\"],\n",
    "                     \"name\":user_dict[\"name\"], \n",
    "                     \"screen_name\":user_dict[\"screen_name\"], \n",
    "                     \"followers\":user_dict[\"followers_count\"], \n",
    "                     \"friends\":user_dict[\"friends_count\"]}\n",
    "\n",
    "        x = user_col.insert_one(user_info)\n",
    "\n",
    "        #Fetching tweets of the user\n",
    "        api = get_authenticated_twitter_api()\n",
    "        tweets = api.user_timeline(user_dict[\"id\"])\n",
    "        for tweet_obj in tweets:\n",
    "            tweet = tweet_obj._json\n",
    "            tweet_info = {\"_id\":tweet[\"id_str\"],\n",
    "                          \"user_id\":user_dict[\"id_str\"],\n",
    "                          \"follower_count\":user_dict[\"followers_count\"],\n",
    "                          \"retweet_count\":tweet[\"retweet_count\"]}\n",
    "\n",
    "            y = tweets_col.insert_one(tweet_info)\n",
    "            \n",
    "        print(\"User info saved for\", user_dict[\"id\"])\n",
    "            \n",
    "    except Exception as ex:\n",
    "        print(ex)"
   ]
  },
  {
   "cell_type": "code",
   "execution_count": 66,
   "metadata": {},
   "outputs": [],
   "source": [
    "#Performing BFS on twitter users\n",
    "\n",
    "def scrape_users(user_list):\n",
    "    count = 0\n",
    "    api = get_authenticated_twitter_api()\n",
    "    try:\n",
    "        while len(user_list)!=0:\n",
    "            try:\n",
    "                time.sleep(10)\n",
    "                if count%100==0:\n",
    "                    if(count!=0):\n",
    "                        print(\"Pausing...\")\n",
    "\n",
    "\n",
    "                while(1):\n",
    "                    user_id = user_list.pop(0)\n",
    "\n",
    "                    #Checking if user node not already visited\n",
    "                    query = {\"_id\": user_id }\n",
    "                    query_res = user_col.find(query)\n",
    "\n",
    "                    qcount = 0\n",
    "                    for query in query_res:\n",
    "                        qcount = 1\n",
    "\n",
    "                    if (qcount)==0:\n",
    "                        break\n",
    "\n",
    "                followers = []\n",
    "                for follower in tweepy.Cursor(api.followers, id=user_id).items():\n",
    "                    if \"bangalore\" in follower._json[\"location\"].lower() or \"bengaluru\" in follower._json[\"location\"].lower():\n",
    "                        user_list.append(follower._json[\"id_str\"])\n",
    "                        followers.append(follower._json[\"id_str\"])\n",
    "                        save_user(follower._json)\n",
    "                        count = count+1\n",
    "\n",
    "                #Saving followers of a user        \n",
    "                follower_info = {\"_id\":user_id, \n",
    "                                 \"followers\": followers }\n",
    "\n",
    "                try:\n",
    "                    user_follower_col.insert_one(follower_info)\n",
    "\n",
    "                except:\n",
    "                    print(\"User's followers already stored\")\n",
    "\n",
    "                if count>5000:\n",
    "                    break\n",
    "                    \n",
    "            except Exception as ex:\n",
    "                print(ex, \" occured inside loop\")\n",
    "                time.sleep(200)\n",
    "                \n",
    "    except Exception as ex:\n",
    "        print(ex, \" occured outside loop\")"
   ]
  },
  {
   "cell_type": "code",
   "execution_count": 67,
   "metadata": {},
   "outputs": [],
   "source": [
    "#Fetching user ids of popular seed users\n",
    "\n",
    "def initialise(seed_usernames):\n",
    "    seed_users = []\n",
    "    api = get_authenticated_twitter_api()\n",
    "    for seed in seed_usernames:\n",
    "        res = api.get_user(seed)\n",
    "        #print(res)\n",
    "        seed_users.append(res._json[\"id_str\"])\n",
    "        \n",
    "    print(seed_users)\n",
    "    return seed_users"
   ]
  },
  {
   "cell_type": "code",
   "execution_count": 48,
   "metadata": {},
   "outputs": [
    {
     "name": "stdout",
     "output_type": "stream",
     "text": [
      "['1213502011', '2885971046', '1067115424339435520', '2307766760', '43705720', '704994405065760768']\n"
     ]
    }
   ],
   "source": [
    "#Fetching seed ids\n",
    "\n",
    "seed_users = initialise(seed_usernames)"
   ]
  },
  {
   "cell_type": "code",
   "execution_count": 68,
   "metadata": {},
   "outputs": [],
   "source": [
    "#Drop the existing collections\n",
    "\n",
    "user_col.drop()\n",
    "user_follower_col.drop()\n",
    "tweets_col.drop()"
   ]
  },
  {
   "cell_type": "code",
   "execution_count": null,
   "metadata": {},
   "outputs": [
    {
     "name": "stdout",
     "output_type": "stream",
     "text": [
      "User info saved for 66338610\n",
      "User info saved for 849157018833342464\n",
      "User info saved for 3275260856\n",
      "User info saved for 364720514\n",
      "User info saved for 1218462519104159745\n",
      "User info saved for 139092034\n",
      "User info saved for 624649724\n",
      "User info saved for 51379431\n",
      "User info saved for 1216368239527133186\n",
      "User info saved for 393845265\n",
      "User info saved for 1217712610461638656\n",
      "User info saved for 1124704857552592896\n",
      "User info saved for 146913591\n",
      "User info saved for 1041641552760647681\n",
      "User info saved for 604375461\n",
      "User info saved for 2546737348\n",
      "Not authorized.\n",
      "User info saved for 1208802953181585408\n"
     ]
    },
    {
     "name": "stderr",
     "output_type": "stream",
     "text": [
      "Rate limit reached. Sleeping for: 750\n"
     ]
    },
    {
     "name": "stdout",
     "output_type": "stream",
     "text": [
      "Failed to send request: ('Connection aborted.', OSError(\"(104, 'ECONNRESET')\"))  occured inside loop\n",
      "User info saved for 1219183196035678208\n",
      "User info saved for 102461702\n",
      "User info saved for 982651114884493318\n",
      "User info saved for 849689042\n",
      "User info saved for 1017804911889661952\n",
      "User info saved for 735465065177055234\n",
      "User info saved for 962380510264725504\n",
      "User info saved for 987409568907980800\n",
      "User info saved for 4801821314\n",
      "User info saved for 3406042757\n",
      "User info saved for 108263125\n",
      "User info saved for 1027391207851347969\n",
      "User info saved for 87880072\n",
      "User info saved for 1105413755251367939\n",
      "User info saved for 1000611295228444677\n",
      "User info saved for 1082120503316307974\n",
      "User info saved for 874276461393215489\n",
      "User info saved for 1926118028\n",
      "User info saved for 1085158061671514112\n",
      "User info saved for 385916326\n",
      "User info saved for 2507122206\n",
      "User info saved for 1107270334821076992\n",
      "User info saved for 884853999379152896\n",
      "User info saved for 916119808344694784\n",
      "User info saved for 1124162937327738880\n",
      "User info saved for 995835116332109824\n",
      "User info saved for 850094026820812802\n",
      "User info saved for 946300043044143104\n",
      "User info saved for 206967520\n",
      "User info saved for 1531649815\n",
      "User info saved for 778253980669403136\n",
      "Not authorized.\n",
      "Not authorized.\n",
      "User info saved for 2441690155\n",
      "User info saved for 2932574851\n",
      "Failed to send request: ('Connection aborted.', RemoteDisconnected('Remote end closed connection without response'))\n",
      "User info saved for 1071187848332640256\n",
      "User info saved for 1233451235908321281\n",
      "User info saved for 792661886198218752\n",
      "User info saved for 515338124\n",
      "User info saved for 16101134\n",
      "User info saved for 549121455\n",
      "User info saved for 185525260\n",
      "User info saved for 978573801544859648\n",
      "User info saved for 952845956\n",
      "User info saved for 851024894594879489\n",
      "User info saved for 1171032767519313920\n",
      "User info saved for 1112101788\n",
      "User info saved for 2782624788\n",
      "User info saved for 1072117645011431429\n",
      "User info saved for 839224104\n",
      "User info saved for 3554577977\n",
      "User info saved for 969831996347228160\n",
      "User info saved for 2893771411\n",
      "User info saved for 3315705177\n",
      "User info saved for 568009163\n",
      "User info saved for 884622482753241089\n",
      "User info saved for 972735211640258560\n",
      "User info saved for 3907204288\n",
      "User info saved for 4330824312\n",
      "User info saved for 1232930523493720065\n",
      "User info saved for 818308907756093445\n",
      "User info saved for 767715359835041792\n",
      "User info saved for 300374155\n",
      "User info saved for 900462908387319813\n",
      "User info saved for 1058766274589679617\n",
      "User info saved for 1170731512116809729\n",
      "User info saved for 901819340214853637\n",
      "User info saved for 122307026\n",
      "User info saved for 1386258458\n",
      "User info saved for 572764670\n",
      "User info saved for 105374427\n"
     ]
    },
    {
     "name": "stderr",
     "output_type": "stream",
     "text": [
      "Rate limit reached. Sleeping for: 249\n"
     ]
    },
    {
     "name": "stdout",
     "output_type": "stream",
     "text": [
      "User info saved for 460987051\n",
      "User info saved for 1515863820\n",
      "User info saved for 1076091912795443205\n",
      "User info saved for 105810584\n",
      "User info saved for 140844387\n",
      "Not authorized.\n",
      "User info saved for 943030634\n",
      "User info saved for 83779942\n",
      "Not authorized.\n",
      "User info saved for 998758638901542912\n",
      "User info saved for 1231809893230759936\n",
      "User info saved for 1209866474967289856\n",
      "User info saved for 784009104649957377\n",
      "User info saved for 190585672\n",
      "User info saved for 1143754776103936000\n",
      "User info saved for 1065269578215739393\n",
      "User info saved for 777434340665864193\n",
      "User info saved for 1098731642464591872\n",
      "User info saved for 975961359279013888\n",
      "User info saved for 1140527786316091392\n",
      "User info saved for 1107488091600650240\n",
      "User info saved for 2530253768\n",
      "User info saved for 1059112902697709574\n",
      "User info saved for 1096348585350725632\n",
      "User info saved for 308348946\n",
      "User info saved for 256851100\n",
      "User info saved for 1211142566533459971\n",
      "User info saved for 815601558184300544\n",
      "User info saved for 1109482439657717760\n",
      "User info saved for 144454190\n",
      "User info saved for 884387675871993856\n",
      "User info saved for 41558857\n",
      "User info saved for 3174955753\n",
      "Not authorized.\n",
      "User info saved for 951839656538030080\n",
      "User info saved for 506118634\n",
      "Not authorized.\n",
      "User info saved for 233141672\n",
      "User info saved for 851205979\n",
      "User info saved for 401903682\n",
      "User info saved for 815735686632534023\n",
      "User info saved for 473042908\n",
      "User info saved for 791419544\n",
      "User info saved for 2705817566\n",
      "User info saved for 1184813794125438976\n",
      "User info saved for 4815543437\n",
      "User info saved for 1197550161527894016\n",
      "User info saved for 1273868641\n",
      "User info saved for 2473400318\n",
      "User info saved for 4666031714\n",
      "User info saved for 964345784845021184\n",
      "User info saved for 3195006918\n",
      "User info saved for 952651517378543616\n",
      "User info saved for 2946014143\n",
      "User info saved for 364121617\n",
      "User info saved for 126602517\n",
      "User info saved for 337862017\n",
      "User info saved for 1144122573887684609\n",
      "User info saved for 1231235694997016578\n",
      "User info saved for 1228681140141096961\n",
      "User info saved for 2310564013\n",
      "User info saved for 143868932\n",
      "User info saved for 1230442039105351680\n",
      "User info saved for 2712660392\n",
      "User info saved for 2927329896\n",
      "User info saved for 986292013849952256\n",
      "User info saved for 956062293783138304\n",
      "User info saved for 137579156\n",
      "User info saved for 931700502605082624\n",
      "User info saved for 2481161708\n",
      "User info saved for 144849186\n",
      "User info saved for 1230775908476190720\n",
      "User info saved for 905412396579135489\n",
      "User info saved for 769973796\n",
      "User info saved for 875662885573148672\n",
      "User info saved for 2730184508\n",
      "User info saved for 195338020\n",
      "User info saved for 1223933801765597184\n",
      "User info saved for 513240908\n",
      "Not authorized.\n",
      "User info saved for 3037661832\n",
      "User info saved for 1402329332\n",
      "User info saved for 837993083874783232\n",
      "User info saved for 403449083\n",
      "User info saved for 125026840\n",
      "User info saved for 942063045756338176\n",
      "User info saved for 928112474863280128\n",
      "User info saved for 782291434237861888\n",
      "User info saved for 886262044273426432\n",
      "User info saved for 430719685\n",
      "User info saved for 217033323\n",
      "User info saved for 2681811420\n",
      "Not authorized.\n",
      "User info saved for 4773928045\n",
      "User info saved for 1226819211512578049\n"
     ]
    },
    {
     "name": "stderr",
     "output_type": "stream",
     "text": [
      "Rate limit reached. Sleeping for: 360\n"
     ]
    }
   ],
   "source": [
    "seed_users = ['1213502011', '2885971046', '1067115424339435520', '2307766760', '43705720', '704994405065760768']\n",
    "\n",
    "scrape_users(seed_users)"
   ]
  },
  {
   "cell_type": "code",
   "execution_count": null,
   "metadata": {},
   "outputs": [],
   "source": [
    "for x in tweets_col.find():\n",
    "    print(x) "
   ]
  },
  {
   "cell_type": "code",
   "execution_count": null,
   "metadata": {},
   "outputs": [],
   "source": []
  }
 ],
 "metadata": {
  "kernelspec": {
   "display_name": "Python 3",
   "language": "python",
   "name": "python3"
  },
  "language_info": {
   "codemirror_mode": {
    "name": "ipython",
    "version": 3
   },
   "file_extension": ".py",
   "mimetype": "text/x-python",
   "name": "python",
   "nbconvert_exporter": "python",
   "pygments_lexer": "ipython3",
   "version": "3.7.3"
  }
 },
 "nbformat": 4,
 "nbformat_minor": 2
}
