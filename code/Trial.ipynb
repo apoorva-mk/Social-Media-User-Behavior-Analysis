{
 "cells": [
  {
   "cell_type": "code",
   "execution_count": 1,
   "metadata": {},
   "outputs": [
    {
     "name": "stdout",
     "output_type": "stream",
     "text": [
      "Dependencies imported\n"
     ]
    }
   ],
   "source": [
    "#Importing required dependencies\n",
    "\n",
    "import tweepy\n",
    "import pymongo\n",
    "import json\n",
    "import time\n",
    "\n",
    "print(\"Dependencies imported\")"
   ]
  },
  {
   "cell_type": "code",
   "execution_count": 2,
   "metadata": {},
   "outputs": [],
   "source": [
    "#TO DO: Add to config file later\n",
    "\n",
    "consumer_key = \"mQXkO4dzpD3OPD1nOIT3fuD0j\"\n",
    "consumer_secret = \"obt5r2qT1o878i5Eja7GYropJfCeUX76IXcjXRuHoJjIZnaard\"\n",
    "users_database_name = \"users_test\"\n",
    "user_followers_database = \"user_followers_test\"\n",
    "tweets_database = \"user_tweets_test\"\n",
    "\n",
    "seed_usernames = [\"P9Ashwini\", \n",
    "                  \"drashwathcn\", \n",
    "                  \"Tej_AnanthKumar\", \n",
    "                  \"vijeta_at\", \n",
    "                  \"nimmasuresh\", \n",
    "                  \"ShashikalaJolle\"]"
   ]
  },
  {
   "cell_type": "code",
   "execution_count": 3,
   "metadata": {},
   "outputs": [],
   "source": [
    "#Storing in MongoDB database\n",
    "\n",
    "client = pymongo.MongoClient(\"mongodb://localhost:27017/\")\n",
    "mydb = client[\"mydatabase_test\"]\n",
    "user_col = mydb[users_database_name]\n",
    "user_follower_col = mydb[user_followers_database]\n",
    "tweets_col = mydb[tweets_database]"
   ]
  },
  {
   "cell_type": "code",
   "execution_count": 4,
   "metadata": {},
   "outputs": [
    {
     "name": "stdout",
     "output_type": "stream",
     "text": [
      "[]\n",
      "ERR: Users collection doesn't exist yet\n"
     ]
    }
   ],
   "source": [
    "#Checking for collections in DB\n",
    "\n",
    "collist = mydb.list_collection_names()\n",
    "print(collist)\n",
    "if users_database_name in collist:\n",
    "    print(\"Users collection exists\")\n",
    "\n",
    "else:\n",
    "    print(\"ERR: Users collection doesn't exist yet\")"
   ]
  },
  {
   "cell_type": "code",
   "execution_count": 5,
   "metadata": {},
   "outputs": [],
   "source": [
    "#OAuth2 Authentication\n",
    "\n",
    "def get_authenticated_twitter_api():\n",
    "    auth = tweepy.AppAuthHandler(consumer_key, consumer_secret)\n",
    "    api = tweepy.API(auth, wait_on_rate_limit=True, wait_on_rate_limit_notify=True)\n",
    "    return api"
   ]
  },
  {
   "cell_type": "code",
   "execution_count": 6,
   "metadata": {},
   "outputs": [],
   "source": [
    "#Save the users info and recent tweets in local DB\n",
    "\n",
    "def save_user(user_dict):\n",
    "    try:\n",
    "        user_info = {\"_id\":user_dict[\"id_str\"],\n",
    "                     \"name\":user_dict[\"name\"], \n",
    "                     \"screen_name\":user_dict[\"screen_name\"], \n",
    "                     \"followers\":user_dict[\"followers_count\"], \n",
    "                     \"friends\":user_dict[\"friends_count\"]}\n",
    "\n",
    "        x = user_col.insert_one(user_info)\n",
    "\n",
    "        #Fetching tweets of the user\n",
    "        tweets = api.user_timeline(seed_user)\n",
    "        for tweet_obj in tweets:\n",
    "            tweet = tweet_obj._json\n",
    "            tweet_info = {\"_id\":tweet[\"id_str\"],\n",
    "                          \"user_id\":user_dict[\"id_str\"],\n",
    "                          \"follower_count\":user_dict[\"followers_count\"],\n",
    "                          \"retweet_count\":tweet[\"retweet_count\"]}\n",
    "\n",
    "            y = tweets_col.insert_one(tweet_info)\n",
    "            \n",
    "    except:\n",
    "        print(\"User already saved\")"
   ]
  },
  {
   "cell_type": "code",
   "execution_count": 7,
   "metadata": {},
   "outputs": [],
   "source": [
    "#Performing BFS on twitter users\n",
    "\n",
    "def scrape_users(user_list):\n",
    "    count = 0\n",
    "    try:\n",
    "        while len(user_list)!=0:\n",
    "            if count%500==0:\n",
    "                if(count!=0):\n",
    "                    print(\"Pausing...\")\n",
    "                    time.sleep(300)\n",
    "                api = get_authenticated_twitter_api()\n",
    "\n",
    "            while(1):\n",
    "                user_id = user_list.pop(0)\n",
    "                \n",
    "                #Checking if user node not already visited\n",
    "                query = {\"_id\": user_id }\n",
    "                query_res = user_col.find(query)\n",
    "                \n",
    "                qcount = 0\n",
    "                for query in query_res:\n",
    "                    qcount = 1\n",
    "                \n",
    "                if (qcount)==0:\n",
    "                    break\n",
    "                \n",
    "            followers = []\n",
    "            for follower in tweepy.Cursor(api.followers, id=user_id).items():\n",
    "                if \"bangalore\" in follower._json[\"location\"].lower() or \"bengaluru\" in follower._json[\"location\"].lower():\n",
    "                    user_list.append(follower._json[\"id_str\"])\n",
    "                    followers.append(follower._json[\"id_str\"])\n",
    "                    save_user(follower._json)\n",
    "                    count = count+1\n",
    "\n",
    "            #Saving followers of a user        \n",
    "            follower_info = {\"_id\":user_id, \n",
    "                             \"followers\": followers }\n",
    "\n",
    "            try:\n",
    "                user_follower_col.insert_one(follower_info)\n",
    "\n",
    "            except:\n",
    "                print(\"User's followers already stored\")\n",
    "\n",
    "            if count>5000:\n",
    "                break\n",
    "                \n",
    "    except Exception as ex:\n",
    "        print(ex)"
   ]
  },
  {
   "cell_type": "code",
   "execution_count": 8,
   "metadata": {},
   "outputs": [],
   "source": [
    "#Fetching user ids of popular seed users\n",
    "\n",
    "def initialise(seed_usernames):\n",
    "    seed_users = []\n",
    "    api = get_authenticated_twitter_api()\n",
    "    for seed in seed_usernames:\n",
    "        res = api.get_user(seed)\n",
    "        #print(res)\n",
    "        seed_users.append(res._json[\"id_str\"])\n",
    "        \n",
    "    print(seed_users)\n",
    "    return seed_users"
   ]
  },
  {
   "cell_type": "code",
   "execution_count": null,
   "metadata": {},
   "outputs": [],
   "source": [
    "#Fetching seed ids\n",
    "\n",
    "seed_users = initialise(seed_usernames)"
   ]
  },
  {
   "cell_type": "code",
   "execution_count": null,
   "metadata": {},
   "outputs": [],
   "source": [
    "#Drop the existing collections\n",
    "\n",
    "user_col.drop()\n",
    "user_follower_col.drop()\n",
    "tweets_col.drop()"
   ]
  },
  {
   "cell_type": "code",
   "execution_count": null,
   "metadata": {},
   "outputs": [],
   "source": [
    "seed_users = ['1213502011', '2885971046', '1067115424339435520', '2307766760', '43705720', '704994405065760768']\n",
    "\n",
    "scrape_users(seed_users)"
   ]
  },
  {
   "cell_type": "code",
   "execution_count": 183,
   "metadata": {},
   "outputs": [],
   "source": [
    "for x in user_col.find():\n",
    "    print(x) "
   ]
  },
  {
   "cell_type": "code",
   "execution_count": null,
   "metadata": {},
   "outputs": [],
   "source": []
  }
 ],
 "metadata": {
  "kernelspec": {
   "display_name": "Python 3",
   "language": "python",
   "name": "python3"
  },
  "language_info": {
   "codemirror_mode": {
    "name": "ipython",
    "version": 3
   },
   "file_extension": ".py",
   "mimetype": "text/x-python",
   "name": "python",
   "nbconvert_exporter": "python",
   "pygments_lexer": "ipython3",
   "version": "3.7.3"
  }
 },
 "nbformat": 4,
 "nbformat_minor": 2
}
