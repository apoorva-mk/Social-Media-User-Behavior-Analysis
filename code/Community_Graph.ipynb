{
 "cells": [
  {
   "cell_type": "code",
   "execution_count": 17,
   "metadata": {},
   "outputs": [
    {
     "name": "stdout",
     "output_type": "stream",
     "text": [
      "Dependencies imported\n"
     ]
    }
   ],
   "source": [
    "'''\n",
    "Importing necessary dependencies\n",
    "'''\n",
    "\n",
    "import networkx as nx\n",
    "import pymongo\n",
    "import matplotlib.pyplot as plt\n",
    "\n",
    "print(\"Dependencies imported\")"
   ]
  },
  {
   "cell_type": "code",
   "execution_count": 10,
   "metadata": {},
   "outputs": [],
   "source": [
    "'''\n",
    "TO DO: Add to config file later\n",
    "'''\n",
    "\n",
    "users_database_name = \"users_test\"\n",
    "user_followers_database = \"user_followers_test\"\n",
    "tweets_database = \"user_tweets_test\""
   ]
  },
  {
   "cell_type": "code",
   "execution_count": 11,
   "metadata": {},
   "outputs": [],
   "source": [
    "'''\n",
    "Storing in MongoDB database\n",
    "'''\n",
    "\n",
    "mydb = client[\"mydatabase_test\"]\n",
    "user_col = mydb[users_database_name]\n",
    "user_follower_col = mydb[user_followers_database]\n",
    "tweets_col = mydb[tweets_database]"
   ]
  },
  {
   "cell_type": "code",
   "execution_count": 29,
   "metadata": {},
   "outputs": [
    {
     "name": "stdout",
     "output_type": "stream",
     "text": [
      "['users_test', 'user_tweets_test']\n",
      "Users collection exists\n"
     ]
    }
   ],
   "source": [
    "collist = mydb.list_collection_names()\n",
    "print(collist)\n",
    "if users_database_name in collist:\n",
    "    print(\"Users collection exists\")\n",
    "\n",
    "else:\n",
    "    print(\"ERR: Users collection doesn't exist yet\")"
   ]
  },
  {
   "cell_type": "code",
   "execution_count": 13,
   "metadata": {},
   "outputs": [],
   "source": [
    "'''\n",
    "Creating community graph\n",
    "'''\n",
    "\n",
    "comm_graph = nx.Graph()"
   ]
  },
  {
   "cell_type": "code",
   "execution_count": 16,
   "metadata": {},
   "outputs": [],
   "source": [
    "'''\n",
    "Adding nodes to graph\n",
    "'''\n",
    "\n",
    "for user in user_col.find():\n",
    "    comm_graph.add_node(int(user[\"_id\"]))"
   ]
  },
  {
   "cell_type": "code",
   "execution_count": 28,
   "metadata": {},
   "outputs": [],
   "source": [
    "for user in user_follower_col.find():\n",
    "    print(user)\n",
    "    break"
   ]
  },
  {
   "cell_type": "code",
   "execution_count": 26,
   "metadata": {},
   "outputs": [
    {
     "data": {
      "image/png": "[encoded data removed]",
      "text/plain": [
       "<Figure size 432x288 with 1 Axes>"
      ]
     },
     "metadata": {},
     "output_type": "display_data"
    }
   ],
   "source": [
    "options = {\n",
    "    'node_color': 'black',     \n",
    "    'node_size': 1,   \n",
    "    'width': 10,\n",
    "}\n",
    "\n",
    "nx.draw(comm_graph, with_labels=False, **options)"
   ]
  },
  {
   "cell_type": "code",
   "execution_count": null,
   "metadata": {},
   "outputs": [],
   "source": []
  }
 ],
 "metadata": {
  "kernelspec": {
   "display_name": "Python 3",
   "language": "python",
   "name": "python3"
  },
  "language_info": {
   "codemirror_mode": {
    "name": "ipython",
    "version": 3
   },
   "file_extension": ".py",
   "mimetype": "text/x-python",
   "name": "python",
   "nbconvert_exporter": "python",
   "pygments_lexer": "ipython3",
   "version": "3.7.3"
  }
 },
 "nbformat": 4,
 "nbformat_minor": 2
}
