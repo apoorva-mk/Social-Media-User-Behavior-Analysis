{
 "cells": [
  {
   "cell_type": "code",
   "execution_count": 81,
   "metadata": {},
   "outputs": [],
   "source": [
    "\"\"\"\n",
    "    Importing dependencies\n",
    "\"\"\"\n",
    "\n",
    "import pymongo\n",
    "import pprint\n",
    "import matplotlib.pyplot as plt\n",
    "import pandas as pd \n",
    "import numpy as np \n",
    "import pytz\n",
    "\n",
    "from dateutil import parser\n",
    "from matplotlib.dates import date2num"
   ]
  },
  {
   "cell_type": "code",
   "execution_count": 14,
   "metadata": {},
   "outputs": [],
   "source": [
    "\"\"\"\n",
    "    Connecting to mongodb\n",
    "\"\"\"\n",
    "\n",
    "DATABASE = \"twitter_database\"\n",
    "USERS_COL = \"user_collection\"\n",
    "TWEETS_COL = \"tweets_collection\"\n",
    "RETWEETS_COL = \"retweets_collection\"\n",
    "REPLIES_COL = \"replies_collection\"\n",
    "\n",
    "client = pymongo.MongoClient(\"mongodb://localhost:27017/\")\n",
    "mydb = client[DATABASE]\n",
    "users_col = mydb[USERS_COL]\n",
    "tweets_col = mydb[TWEETS_COL]\n",
    "retweets_col = mydb[RETWEETS_COL]\n",
    "replies_col = mydb[REPLIES_COL]"
   ]
  },
  {
   "cell_type": "code",
   "execution_count": 51,
   "metadata": {},
   "outputs": [],
   "source": [
    "\"\"\" \n",
    "    Lockdown phase demarcations\n",
    "\"\"\"\n",
    "\n",
    "utc=pytz.UTC\n",
    "\n",
    "YEAR_BEGINNING = 'Jan 1 0:0:0 +0530 2020'\n",
    "JANATA_CURFEW = 'Mar 22 0:0:0 +0530 2020'\n",
    "PHASE_1_START = 'Mar 25 0:0:0 +0530 2020'\n",
    "PHASE_2_START = 'Apr 15 0:0:0 +0530 2020'\n",
    "PHASE_3_START = 'May 4 0:0:0 +0530 2020'\n",
    "PHASE_4_START = 'May 18 0:0:0 +0530 2020'\n",
    "UNLOCK_1_START = 'Jun 1 0:0:0 +0530 2020'\n",
    "SCRAPE_DATE = 'Jun 17 0:0:0 +0530 2020'\n",
    "\n",
    "year_beginning = parser.parse(YEAR_BEGINNING)\n",
    "janata_curfew = parser.parse(JANATA_CURFEW)\n",
    "phase_1_start = parser.parse(PHASE_1_START)\n",
    "phase_2_start = parser.parse(PHASE_2_START)\n",
    "phase_3_start = parser.parse(PHASE_3_START)\n",
    "phase_4_start = parser.parse(PHASE_4_START)\n",
    "unlock_1_start = parser.parse(UNLOCK_1_START)\n",
    "scrape_date = parser.parse(SCRAPE_DATE)\n",
    "\n",
    "PRE_LOCKDOWN = \"Pre-lockdown\"\n",
    "PHASE_1 = \"Phase-1\"\n",
    "PHASE_2 = \"Phase-2\"\n",
    "PHASE_3 = \"Phase-3\"\n",
    "PHASE_4 = \"Phase-4\"\n",
    "UNLOCK_1 = \"Unlock-1\"\n",
    "\n",
    "dur_dict = dict()\n",
    "dur_dict[PRE_LOCKDOWN] = (phase_1_start - year_beginning).days\n",
    "dur_dict[PHASE_1] = (phase_2_start - phase_1_start).days \n",
    "dur_dict[PHASE_2] = (phase_3_start - phase_2_start).days\n",
    "dur_dict[PHASE_3] = (phase_4_start - phase_3_start).days\n",
    "dur_dict[PHASE_4] = (unlock_1_start - phase_1_start).days\n",
    "dur_dict[UNLOCK_1] = (scrape_date - unlock_1_start).days"
   ]
  },
  {
   "cell_type": "code",
   "execution_count": 52,
   "metadata": {},
   "outputs": [],
   "source": [
    "def get_phase(status_date):\n",
    "    status_date = utc.localize(parser.parse(status_date))\n",
    "    \n",
    "    if status_date < phase_1_start:\n",
    "        return PRE_LOCKDOWN\n",
    "    \n",
    "    elif status_date < phase_2_start:\n",
    "        return PHASE_1\n",
    "    \n",
    "    elif status_date < phase_3_start:\n",
    "        return PHASE_2\n",
    "    \n",
    "    elif status_date < phase_4_start:\n",
    "        return PHASE_3\n",
    "    \n",
    "    elif status_date < unlock_1_start:\n",
    "        return PHASE_4\n",
    "    \n",
    "    else:\n",
    "        return UNLOCK_1"
   ]
  },
  {
   "cell_type": "code",
   "execution_count": 54,
   "metadata": {},
   "outputs": [
    {
     "name": "stdout",
     "output_type": "stream",
     "text": [
      "Aggregations completed\n"
     ]
    }
   ],
   "source": [
    "\"\"\"\n",
    "    Creating relevant dataframes\n",
    "    - Phase wise aggregate\n",
    "    - Day wise aggregate\n",
    "\"\"\" \n",
    "\n",
    "day_dict = dict()\n",
    "phase_dict = dict()\n",
    "users_set = set()\n",
    "\n",
    "for tweet in tweets_col.find():\n",
    "    date = tweet[\"created_at\"][:10]\n",
    "    vals = day_dict.setdefault(date, [0,0,0])\n",
    "    vals[0] = vals[0] + 1\n",
    "    phase = get_phase(date)\n",
    "    vals = phase_dict.setdefault(phase, [0,0,0])\n",
    "    vals[0] = vals[0] + 1\n",
    "    users_set.add(tweet[\"user\"][\"id\"])\n",
    "    \n",
    "for retweet in retweets_col.find():\n",
    "    date = retweet[\"created_at\"][:10]\n",
    "    vals = day_dict.setdefault(date, [0,0,0])\n",
    "    vals[1] = vals[1] + 1\n",
    "    phase = get_phase(date)\n",
    "    vals = phase_dict.setdefault(phase, [0,0,0])\n",
    "    vals[1] = vals[1] + 1\n",
    "    users_set.add(retweet[\"user\"][\"id\"])\n",
    "    \n",
    "for reply in replies_col.find():\n",
    "    date = reply[\"created_at\"][:10]\n",
    "    vals = day_dict.setdefault(date, [0,0,0])\n",
    "    vals[2] = vals[2] + 1\n",
    "    phase = get_phase(date)\n",
    "    vals = phase_dict.setdefault(phase, [0,0,0])\n",
    "    vals[2] = vals[2] + 1\n",
    "    users_set.add(reply[\"user\"][\"id\"])\n",
    "    \n",
    "print(\"Aggregations completed\")"
   ]
  },
  {
   "cell_type": "code",
   "execution_count": 95,
   "metadata": {},
   "outputs": [
    {
     "name": "stdout",
     "output_type": "stream",
     "text": [
      "126\n"
     ]
    }
   ],
   "source": [
    "\"\"\" Averaging it out and creating dataframes \"\"\"\n",
    "\n",
    "print(num_users)\n",
    "\n",
    "daywise_data = []\n",
    "phasewise_data = []\n",
    "\n",
    "daywise_agg_cols = ['Date', 'Tweets', 'Retweets', 'Replies']\n",
    "phasewise_agg_cols = ['Phase', 'Avg. tweets per user', 'Avg. retweets per user', 'Avg. replies per user']\n",
    "\n",
    "for key, vals in day_dict.items():\n",
    "    temp = [key]\n",
    "    for val in vals:\n",
    "        temp.append(val)\n",
    "    daywise_data.append(temp)\n",
    "    \n",
    "for key, vals in phase_dict.items():\n",
    "    temp = [key]\n",
    "    for val in vals:\n",
    "        temp.append(float(val)/(dur_dict[key]*num_users))\n",
    "    phasewise_data.append(temp)\n",
    "\n",
    "phasewise_data.reverse()\n",
    "\n",
    "daywise_df = pd.DataFrame(daywise_data, columns = daywise_agg_cols)\n",
    "phasewise_df = pd.DataFrame(phasewise_data, columns = phasewise_agg_cols)\n",
    "\n",
    "daywise_df.to_csv('../dataset/daywise_agg.csv')\n",
    "phasewise_df.to_csv('../dataset/phasewise_agg.csv')"
   ]
  },
  {
   "cell_type": "code",
   "execution_count": 93,
   "metadata": {},
   "outputs": [
    {
     "data": {
      "image/png": "[encoded data removed]",
      "text/plain": [
       "<Figure size 576x396 with 1 Axes>"
      ]
     },
     "metadata": {},
     "output_type": "display_data"
    }
   ],
   "source": [
    "\"\"\" Plotting graph \"\"\"\n",
    "\n",
    "plt.style.use('seaborn')\n",
    "\n",
    "X = np.arange(6)\n",
    "plt.xticks(X, phasewise_df[\"Phase\"])\n",
    "plt.bar(X+0.0, phasewise_df['Avg. tweets per user'], width = 0.25, label='Tweets')\n",
    "plt.bar(X+0.25, phasewise_df['Avg. retweets per user'], width = 0.25, label='Retweets')\n",
    "plt.bar(X+0.5, phasewise_df['Avg. replies per user'], width = 0.25, label='Replies')\n",
    "\n",
    "plt.xticks(rotation=70) \n",
    "plt.xlabel('Lockdown phases') \n",
    "plt.ylabel('Average number of status per day, per user') \n",
    "plt.title('User status frequency analysis during lockdown')\n",
    "plt.legend()\n",
    "\n",
    "\"\"\" Save plot \"\"\" \n",
    "plt.savefig('../results/freq_analysis.png',dpi=300,bbox_inches='tight') \n",
    "\n",
    "\"\"\" Display graph \"\"\"\n",
    "plt.show()"
   ]
  }
 ],
 "metadata": {
  "kernelspec": {
   "display_name": "Python 3",
   "language": "python",
   "name": "python3"
  },
  "language_info": {
   "codemirror_mode": {
    "name": "ipython",
    "version": 3
   },
   "file_extension": ".py",
   "mimetype": "text/x-python",
   "name": "python",
   "nbconvert_exporter": "python",
   "pygments_lexer": "ipython3",
   "version": "3.7.3"
  }
 },
 "nbformat": 4,
 "nbformat_minor": 2
}
