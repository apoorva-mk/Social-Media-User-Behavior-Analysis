{
 "cells": [
  {
   "cell_type": "code",
   "execution_count": 1,
   "metadata": {},
   "outputs": [],
   "source": [
    "key = \"ZDI7Qh5cvY80NusBSAy0gzsA6\"\n",
    "secret_key = \"0eptvusxuOfE2HddWg36IYC7YAUVdtSFSxv1g2ojiiofYMTgJW\"\n",
    "access_token = \"1077805242358599681-xIjbhqdlVOgKTV1f4kmvbuYD6OeVZM\"\n",
    "access_token_secret = \"SuLxkks27ajoyIrSHm3PgxRL3Bv5X2CvpPH2Kmb5uA0Di\""
   ]
  }
 ],
 "metadata": {
  "kernelspec": {
   "display_name": "Python 3",
   "language": "python",
   "name": "python3"
  },
  "language_info": {
   "codemirror_mode": {
    "name": "ipython",
    "version": 3
   },
   "file_extension": ".py",
   "mimetype": "text/x-python",
   "name": "python",
   "nbconvert_exporter": "python",
   "pygments_lexer": "ipython3",
   "version": "3.7.3"
  }
 },
 "nbformat": 4,
 "nbformat_minor": 2
}
