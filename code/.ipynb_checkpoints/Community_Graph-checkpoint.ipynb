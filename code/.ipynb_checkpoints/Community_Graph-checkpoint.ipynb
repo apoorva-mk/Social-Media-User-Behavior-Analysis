{
 "cells": [
  {
   "cell_type": "code",
   "execution_count": 1,
   "metadata": {},
   "outputs": [
    {
     "name": "stdout",
     "output_type": "stream",
     "text": [
      "Dependencies imported\n"
     ]
    }
   ],
   "source": [
    "import tweepy\n",
    "import pymongo\n",
    "import json\n",
    "\n",
    "print(\"Dependencies imported\")"
   ]
  },
  {
   "cell_type": "code",
   "execution_count": null,
   "metadata": {},
   "outputs": [],
   "source": [
    "#TO DO: Add to config file later\n",
    "\n",
    "consumer_key = \"mQXkO4dzpD3OPD1nOIT3fuD0j\"\n",
    "consumer_secret = \"obt5r2qT1o878i5Eja7GYropJfCeUX76IXcjXRuHoJjIZnaard\"\n",
    "users_database_name = \"users\"\n",
    "user_followers_database = \"user_followers\"\n",
    "seed_user = \"P9Ashwini\"\n",
    "\n",
    "seed_users = [\"P9Ashwini\", \"drashwathcn\"]"
   ]
  }
 ],
 "metadata": {
  "kernelspec": {
   "display_name": "Python 3",
   "language": "python",
   "name": "python3"
  },
  "language_info": {
   "codemirror_mode": {
    "name": "ipython",
    "version": 3
   },
   "file_extension": ".py",
   "mimetype": "text/x-python",
   "name": "python",
   "nbconvert_exporter": "python",
   "pygments_lexer": "ipython3",
   "version": "3.7.3"
  }
 },
 "nbformat": 4,
 "nbformat_minor": 2
}
